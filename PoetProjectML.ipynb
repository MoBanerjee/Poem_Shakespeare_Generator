{
 "cells": [
  {
   "cell_type": "code",
   "execution_count": 1,
   "metadata": {},
   "outputs": [],
   "source": [
    "import random\n",
    "import numpy as np\n",
    "import tensorflow as tf"
   ]
  },
  {
   "cell_type": "code",
   "execution_count": 2,
   "metadata": {},
   "outputs": [],
   "source": [
    "from keras.models import Sequential\n",
    "from keras.layers import LSTM,Dense,Activation\n",
    "from keras.optimizers import RMSprop "
   ]
  },
  {
   "cell_type": "code",
   "execution_count": 3,
   "metadata": {},
   "outputs": [],
   "source": [
    "import urllib.request\n",
    "import ssl\n",
    "import tensorflow as tf\n",
    "\n",
    "# Disable SSL certificate verification\n",
    "ssl._create_default_https_context = ssl._create_unverified_context\n",
    "\n",
    "url = 'https://storage.googleapis.com/download.tensorflow.org/data/shakespeare.txt'\n",
    "filepath = tf.keras.utils.get_file('shakespeare.txt', origin=url, cache_dir='.', cache_subdir='')\n",
    "urllib.request.urlretrieve(url, filepath)\n",
    "text = open(filepath, 'rb').read().decode(encoding='utf-8')"
   ]
  },
  {
   "cell_type": "code",
   "execution_count": 4,
   "metadata": {},
   "outputs": [],
   "source": [
    "text=text.lower()"
   ]
  },
  {
   "cell_type": "code",
   "execution_count": 5,
   "metadata": {},
   "outputs": [],
   "source": [
    "text=text[300000:800000]"
   ]
  },
  {
   "cell_type": "code",
   "execution_count": 6,
   "metadata": {},
   "outputs": [],
   "source": [
    "characters=sorted(set(text))"
   ]
  },
  {
   "cell_type": "code",
   "execution_count": 7,
   "metadata": {},
   "outputs": [],
   "source": [
    "char_to_index=dict((c,i)for i,c in enumerate(characters))\n",
    "index_to_char=dict((i,c)for i,c in enumerate(characters))"
   ]
  },
  {
   "cell_type": "code",
   "execution_count": 8,
   "metadata": {},
   "outputs": [],
   "source": [
    "seqlen=40\n",
    "stepsz=3\n",
    "sen=[]\n",
    "nextchar=[]"
   ]
  },
  {
   "cell_type": "code",
   "execution_count": 9,
   "metadata": {},
   "outputs": [],
   "source": [
    "for j in range(0,len(text)-seqlen,stepsz):\n",
    "    sen.append(text[j:j+seqlen])\n",
    "    nextchar.append(text[j+seqlen])"
   ]
  },
  {
   "cell_type": "code",
   "execution_count": 10,
   "metadata": {},
   "outputs": [],
   "source": [
    "x=np.zeros((len(sen),seqlen,len(characters)),dtype=bool)\n",
    "y=np.zeros((len(sen),len(characters)),dtype=bool)"
   ]
  },
  {
   "cell_type": "code",
   "execution_count": 11,
   "metadata": {},
   "outputs": [],
   "source": [
    "for i,sent in enumerate(sen):\n",
    "    for j,char in enumerate(sent):\n",
    "        x[i,j,char_to_index[char]]=1;\n",
    "    y[i,char_to_index[nextchar[i]]]=1"
   ]
  },
  {
   "cell_type": "code",
   "execution_count": 12,
   "metadata": {},
   "outputs": [
    {
     "name": "stderr",
     "output_type": "stream",
     "text": [
      "WARNING:absl:At this time, the v2.11+ optimizer `tf.keras.optimizers.RMSprop` runs slowly on M1/M2 Macs, please use the legacy Keras optimizer instead, located at `tf.keras.optimizers.legacy.RMSprop`.\n",
      "WARNING:absl:`lr` is deprecated in Keras optimizer, please use `learning_rate` or use the legacy optimizer, e.g.,tf.keras.optimizers.legacy.RMSprop.\n",
      "WARNING:absl:There is a known slowdown when using v2.11+ Keras optimizers on M1/M2 Macs. Falling back to the legacy Keras optimizer, i.e., `tf.keras.optimizers.legacy.RMSprop`.\n"
     ]
    },
    {
     "name": "stdout",
     "output_type": "stream",
     "text": [
      "Epoch 1/4\n",
      "651/651 [==============================] - 57s 85ms/step - loss: 2.6489\n",
      "Epoch 2/4\n",
      "651/651 [==============================] - 55s 84ms/step - loss: 2.2455\n",
      "Epoch 3/4\n",
      "651/651 [==============================] - 55s 85ms/step - loss: 2.0964\n",
      "Epoch 4/4\n",
      "651/651 [==============================] - 58s 89ms/step - loss: 1.9883\n",
      "INFO:tensorflow:Assets written to: poet.model/assets\n"
     ]
    },
    {
     "name": "stderr",
     "output_type": "stream",
     "text": [
      "INFO:tensorflow:Assets written to: poet.model/assets\n"
     ]
    }
   ],
   "source": [
    "model = Sequential()\n",
    "model.add(LSTM(128, input_shape=(seqlen, len(characters))))\n",
    "model.add(Dense(len(characters)))\n",
    "model.add(Activation('softmax'))\n",
    "model.compile(loss='categorical_crossentropy', optimizer=RMSprop(lr=0.01))\n",
    "model.fit(x, y, batch_size=256, epochs=4)\n",
    "model.save('poet.model')\n"
   ]
  },
  {
   "cell_type": "code",
   "execution_count": 13,
   "metadata": {},
   "outputs": [],
   "source": [
    "model=tf.keras.models.load_model('poet.model')"
   ]
  },
  {
   "cell_type": "code",
   "execution_count": 14,
   "metadata": {},
   "outputs": [],
   "source": [
    "def sample(preds,temperature=1.0):\n",
    "    preds=np.asarray(preds).astype('float64')\n",
    "    preds=np.log(preds)/temperature\n",
    "    exp_preds=np.exp(preds)\n",
    "    preds=exp_preds/np.sum(exp_preds)\n",
    "    probas=np.random.multinomial(1,preds,1)\n",
    "    return np.argmax(probas)"
   ]
  },
  {
   "cell_type": "code",
   "execution_count": 15,
   "metadata": {},
   "outputs": [],
   "source": [
    "def textgen(length, temperature):\n",
    "    start_index=random.randint(0,len(text)-seqlen-1)\n",
    "    generated=''\n",
    "    sentence=text[start_index:start_index+seqlen]\n",
    "    generated+=sentence\n",
    "    for o in range(length):\n",
    "        x=np.zeros((1,seqlen,len(characters)),dtype=bool)\n",
    "        for t,character in enumerate(sentence):\n",
    "            x[0,t,char_to_index[character]]=1\n",
    "        predictions=model.predict(x,verbose=0)[0]\n",
    "        nextindex=sample(predictions,temperature)\n",
    "        nextcharac=index_to_char[nextindex]\n",
    "        generated+=nextcharac\n",
    "        sentence=sentence[1:]+nextcharac\n",
    "    return generated"
   ]
  },
  {
   "cell_type": "code",
   "execution_count": 16,
   "metadata": {},
   "outputs": [
    {
     "name": "stdout",
     "output_type": "stream",
     "text": [
      "0.2\n",
      "er back of death,\n",
      "who gently would dissond the will the shall.\n",
      "\n",
      "king rewward iv:\n",
      "whis with the print the rise the wich the wind his death\n",
      "the will the with the with the with low stour his so the beard.\n",
      "\n",
      "herring:\n",
      "wher with the with the sond her with the shall the shall the beath the beand.\n",
      "\n",
      "king rewird:\n",
      "i with the will the frath the manger\n",
      "0.4\n",
      "ave o' the sea, that you might ever do\n",
      "no miss of i more stand the prailars,\n",
      "and thil this fare the batt me hand you the sould the mand\n",
      "that here bread the with i with the weres.\n",
      "\n",
      "herr sulling:\n",
      "the sind with the brout the hath she wher sours, thit the wille,\n",
      "what make the brother lowe star he wing he wourd with i lave\n",
      "the rere in that the\n",
      "0.6\n",
      "full as dearly as i love myself.\n",
      "\n",
      "king edward ii:\n",
      "here for for i paring betured frear stand.\n",
      "\n",
      "wardick:\n",
      "not aw and thou lath his ging hit me fave then that,\n",
      "nor what i wind the hish i so farther and no the shave of that,\n",
      "and her the and he for chend and that this heard;\n",
      "so, her and to the comps the leaving hishis enreals.\n",
      "\n",
      "prilines:\n",
      "and ma\n",
      "0.8\n",
      "rd:\n",
      "say no more:\n",
      "howe'er the business go digh ronfat ming by sed an!\n",
      "\n",
      "elllot:\n",
      "i wath ur the deave mare ous hear wo how sweit\n",
      "has hald turn, that hemes stardsh stoind whill!\n",
      "\n",
      "perino:\n",
      "ous with andisse coruness life aur poum sot breate\n",
      "us my farted an the pervins the ligh,\n",
      "and cham it the leidss his thous wromes the frome:\n",
      "the puit ie shar t\n",
      "1\n",
      "ught\n",
      "for jesu christ in glorious christi'd ast\n",
      "prilil s will my you thim me not ve munmy.\n",
      "\n",
      "pearten:dinglgonp,\n",
      "stlist to the way grom qrook socinged ther?\n",
      "\n",
      "king:\n",
      "dronchad buling:\n",
      "if in thet my rath of she in eray farrel aptire to wiss;\n",
      "and that we in ttre be.\n",
      "\n",
      "jutrcoun:\n",
      "how net fich ur stind thoughrenwifathrif save at.\n",
      "\n",
      "geattr:\n",
      "sny lark bo\n"
     ]
    }
   ],
   "source": [
    "print('0.2')\n",
    "print(textgen(300,0.2))\n",
    "print('0.4')\n",
    "print(textgen(300,0.4))\n",
    "print('0.6')\n",
    "print(textgen(300,0.6))\n",
    "print('0.8')\n",
    "print(textgen(300,0.8))\n",
    "print('1')\n",
    "print(textgen(300,1))"
   ]
  }
 ],
 "metadata": {
  "kernelspec": {
   "display_name": "Python 3.11.1 64-bit",
   "language": "python",
   "name": "python3"
  },
  "language_info": {
   "codemirror_mode": {
    "name": "ipython",
    "version": 3
   },
   "file_extension": ".py",
   "mimetype": "text/x-python",
   "name": "python",
   "nbconvert_exporter": "python",
   "pygments_lexer": "ipython3",
   "version": "3.11.4"
  },
  "orig_nbformat": 4,
  "vscode": {
   "interpreter": {
    "hash": "aee8b7b246df8f9039afb4144a1f6fd8d2ca17a180786b69acc140d282b71a49"
   }
  }
 },
 "nbformat": 4,
 "nbformat_minor": 2
}
